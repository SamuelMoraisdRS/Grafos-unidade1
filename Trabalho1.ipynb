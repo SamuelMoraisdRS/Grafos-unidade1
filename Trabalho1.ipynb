{
 "cells": [
  {
   "cell_type": "markdown",
   "id": "b8d776df",
   "metadata": {},
   "source": [
    "## DIM0549 - Grafos : 1º Unidade, Grupo 5"
   ]
  },
  {
   "cell_type": "markdown",
   "id": "5e61cb857ae53f90",
   "metadata": {},
   "source": [
    "### Classes abstratas contendo metodos basicos das classes *Vertice* e *Grafo*"
   ]
  },
  {
   "cell_type": "markdown",
   "id": "22ecd0dd",
   "metadata": {},
   "source": [
    "## Item **1** : Criação do grafo a partir da lista de adjancências\n",
    "A implementação do grafo que utiliza a lista de adjacência como estrutura de dados subjacente foi feita através das classes *ListaAdjacencia* e *VerticeAdjacencia*.\n",
    "Aqui, contamos com o método *ler_grafo*, responsável por realizar a leitura do grafo descrito no filepath fornecido como\n",
    "entrada e fazer a construção do grafo. Essa construção consiste em, para cada par de vértices lidos, instanciar os objetos\n",
    "vértices correspondentes, e inserí-los no grafo via o método *adicionar_vertice*, caso já não pertençam ao grafo. Se já pertencerem, é feita a\n",
    "criação de novas arestas via a função *adicionar_vizinho* encapsulada na classe *VerticeAdjacencia*. \n",
    "Maior detalhamento sobre o método de adição será fornecido na resolução do item **9**\n",
    "Esta implementação da classe já conta, também, com a implementação do método de remoção de vértice ao grafo.\n",
    "\n"
   ]
  },
  {
   "cell_type": "code",
   "execution_count": 15,
   "id": "b8f90e41",
   "metadata": {},
   "outputs": [
    {
     "name": "stdout",
     "output_type": "stream",
     "text": [
      "1 -> ['6', '2', '3']\n",
      "2 -> ['6', '5', '3']\n",
      "3 -> ['4', '2', '1']\n",
      "6 -> ['2', '1', '7']\n",
      "5 -> ['4', '2']\n",
      "4 -> ['5', '3']\n",
      "7 -> ['6']\n",
      "8 -> ['9', '11', '10']\n",
      "9 -> ['10']\n",
      "10 -> ['9', '8']\n",
      "11 -> ['8']\n"
     ]
    }
   ],
   "source": [
    "from collections import Counter\n",
    "class VerticeAdjacencia:\n",
    "    def __init__(self, label, vizinhos = None):\n",
    "        self.label = label\n",
    "        # self.predecessor = predecessor if predecessor else None\n",
    "        vizinhos = vizinhos if vizinhos else []\n",
    "        self.vizinhos = vizinhos\n",
    "    def adicionar_vizinho(self, vizinho):\n",
    "        self.vizinhos.append(vizinho)\n",
    "        vizinho.vizinhos.append(self)\n",
    "    def __str__(self):\n",
    "        return f\"Label : {self.label}\"\n",
    "\n",
    "# Nesta implementacao o grafo consistirá em um dict cujos valores sao lists (implementacoes de linkedlista=)\n",
    "class ListaAdjacencia:\n",
    "    def __init__(self, nome,  caminho_arquivo : str = None):\n",
    "        self.lista = dict() # Ja que ordem nao importa, sempre troque o vertice a ser removido pelo ultimo vertice na lista \n",
    "        self.labels = dict()\n",
    "        self.nome = nome\n",
    "        if caminho_arquivo:\n",
    "            vertices = self.ler_grafo(caminho_arquivo=caminho_arquivo)\n",
    "            for vertice in vertices:\n",
    "                self.adicionar_vertice(vertice)\n",
    "\n",
    "    def adicionar_vertice(self, novo_vertice): # O(m), tq m eh numero de vertices vizinhos ao novo_vertice JA PRESENTES NO GRAFO\n",
    "        self.lista[novo_vertice] = set()\n",
    "        self.labels[novo_vertice.label] = novo_vertice\n",
    "        # Ver os vizinhos do vertice que vai ser adicionado\n",
    "        # adicionar o novo vertice a lista de colisao de cada um de seus vizinhos \n",
    "        for vizinho in novo_vertice.vizinhos:\n",
    "            self.lista[novo_vertice].add(vizinho) \n",
    "            if not self.lista.get(vizinho):\n",
    "                self.lista[vizinho] = set()\n",
    "            self.lista[vizinho].add(novo_vertice)\n",
    "\n",
    "    def ler_grafo(self, caminho_arquivo : str):\n",
    "        with open(caminho_arquivo, \"r\") as grafo_arquivo:\n",
    "            linhas = grafo_arquivo.readlines()\n",
    "            ordem = int(linhas[0])\n",
    "            vertices = dict()\n",
    "            def extrair_labels(linha: str):\n",
    "                linha_split = linha.strip().split(\",\")\n",
    "                return linha_split[0], linha_split[1]\n",
    "\n",
    "            for linha in linhas[1:]:\n",
    "                label_1, label_2 = extrair_labels(linha)\n",
    "                # print(f\"Labels: {label_1} e {label_2}\")\n",
    "                # Checa se os vertices recebidos na linha ja existem\n",
    "                vert_1, vert_2 = vertices.get(label_1, None), vertices.get(label_2, None)\n",
    "                if vert_1 and vert_2:\n",
    "                    vert_1.adicionar_vizinho(vert_2)\n",
    "                    vert_2.adicionar_vizinho(vert_1)\n",
    "                elif vert_1:\n",
    "                    vert_2 = VerticeAdjacencia(label=label_2)\n",
    "                    vert_1.adicionar_vizinho(vert_2)\n",
    "                    vertices[label_2] = vert_2\n",
    "                elif vert_2:\n",
    "                    vert_1 = VerticeAdjacencia(label=label_1, vizinhos=[vert_2])\n",
    "                    vertices[label_1] = vert_1\n",
    "                else:\n",
    "                    vert_2 = VerticeAdjacencia(label=label_2)\n",
    "                    vert_1 = VerticeAdjacencia(label=label_1, vizinhos=[vert_2])\n",
    "                    vertices[label_1] = vert_1\n",
    "                    vertices[label_2] = vert_2\n",
    "            return vertices.values()\n",
    "    def remover_vertice(self, vertice_a_ser_removido):\n",
    "        if vertice_a_ser_removido not in self.lista:\n",
    "            return \"Vertice nao pertence ao grafo\"\n",
    "        self.lista.pop(vertice_a_ser_removido)  # O(1)\n",
    "        for vizinho in vertice_a_ser_removido.vizinhos: # O(m)\n",
    "            del self.lista[vizinho][vertice_a_ser_removido] # O(1)\n",
    "\n",
    "    def get_vertices(self):\n",
    "        return self.lista.keys()\n",
    "\n",
    "    def get_vertice(self,label):\n",
    "        return self.labels[label]\n",
    "    \n",
    "\n",
    "    def get_adjacentes(self, label_vertice):\n",
    "        vertice = self.labels[label_vertice]\n",
    "        return set(vertice.vizinhos)\n",
    "\n",
    "    def __str__(self):\n",
    "        if len(self.lista) ==0:\n",
    "            return \"<ListaAdjacencia Vazio>\"\n",
    "        strings = [f\"{vertice.label} -> {list(map(lambda vizinho : vizinho.label, self.lista[vertice]))}\" for vertice in self.lista.keys()]\n",
    "        return '\\n'.join(strings)\n",
    "\n",
    "\n",
    "grafo = ListaAdjacencia(\"Grafo 1\",caminho_arquivo=\"./data/GRAFO_2.txt\")\n",
    "print(grafo)\n"
   ]
  },
  {
   "cell_type": "markdown",
   "id": "c7c091b78d28fbf1",
   "metadata": {},
   "source": [
    "## Item **2** : Implementação do Grafo usando *Matriz de adjacência*\n",
    "A implementação usando matriz de adjacência tem a mesma estrutura do item anterior, é feita a leitura via método *ler_grafo* e adição dos vértices.\n",
    "Nesta implementação, mantemos o a classe Vertice, mas aqui ela é usada apenas para encapsular o dado vértice e seus vizinhos, para que sirva de entrada ao método *adicionar_vertice*. A estrutura do grafo é mantida integralmente na matriz"
   ]
  },
  {
   "cell_type": "code",
   "execution_count": 16,
   "id": "5cd9a0a6",
   "metadata": {
    "ExecuteTime": {
     "end_time": "2025-09-21T12:51:23.993462Z",
     "start_time": "2025-09-21T12:51:23.910111Z"
    }
   },
   "outputs": [],
   "source": [
    "from collections import Counter\n",
    "from functools import reduce\n",
    "\n",
    "# Implementacao da classe vertice para de grafos utilizando matriz de adjacencia \n",
    "class VerticeMatriz:\n",
    "    def __init__(self, label : str = \"\", vizinhos = None):\n",
    "        self.label = label \n",
    "        self.indice = None\n",
    "        # O Counter associa um objeto a um contador numérico via hash table, aqui será usado para contar o número de\n",
    "        # arestas entre este vértice e seu respectivo vizinho, para o caso de recebermos multigrafos\n",
    "        self.vizinhos = Counter() \n",
    "        if vizinhos:\n",
    "            for vizinho in vizinhos:\n",
    "                self.adicionar_vizinho(vizinho)\n",
    "\n",
    "    def adicionar_vizinho(self, vertice_vizinho):\n",
    "        self.vizinhos[vertice_vizinho] += 1\n",
    "        vertice_vizinho.vizinhos[self] += 1\n",
    "\n",
    "class MatrizAdjacencia:\n",
    "    def __init__(self, nome : str , caminho_arquivo : str = None): # O(n^2)\n",
    "        self.nome = nome # Nome do grafo, pra proposito de impressao\n",
    "        self.indices = dict() # hash table associando os vertices a cada indice da matriz, para agilizar consultas\n",
    "        self.matriz = [] \n",
    "        self.labels = dict() # Hash table para armazenar os vértices associadas a cada label\n",
    "        if not caminho_arquivo:\n",
    "            return \n",
    "        for vertice in self.ler_grafo(caminho_arquivo):\n",
    "            self.adicionar_vertice(vertice)\n",
    "\n",
    "    def ler_grafo(self, caminho_arquivo : str):\n",
    "        with open(caminho_arquivo, \"r\") as grafo_arquivo:\n",
    "            linhas = grafo_arquivo.readlines()\n",
    "            ordem = int(linhas[0])\n",
    "            vertices = dict()\n",
    "            def extrair_labels(linha: str):\n",
    "                linha_split = linha.strip().split(\",\")\n",
    "                return linha_split[0], linha_split[1]\n",
    "\n",
    "            for linha in linhas[1:]:\n",
    "                label_1, label_2 = extrair_labels(linha)\n",
    "\n",
    "                # Checa se os vertices recebidos na linha ja existem\n",
    "                vert_1, vert_2 = vertices.get(label_1, None), vertices.get(label_2, None)\n",
    "                if vert_1 and vert_2:\n",
    "                    vert_1.adicionar_vizinho(vert_2)\n",
    "                elif vert_1:\n",
    "                    vert_2 = VerticeMatriz(label=label_2)\n",
    "                    vert_1.adicionar_vizinho(vert_2)\n",
    "                    vertices[label_2] = vert_2\n",
    "                elif vert_2:\n",
    "                    vert_1 = VerticeMatriz(label=label_1, vizinhos=[vert_2])\n",
    "                    vertices[label_1] = vert_1\n",
    "                else:\n",
    "                    vert_2 = VerticeMatriz(label=label_2)\n",
    "                    vert_1 = VerticeMatriz(label=label_1, vizinhos=[vert_2])\n",
    "                    vertices[label_1] = vert_1\n",
    "                    vertices[label_2] = vert_2\n",
    "            return vertices.values()\n",
    "\n",
    "\n",
    "    def adicionar_vertice(self, vertice : VerticeMatriz): # O(n)\n",
    "        # Adiciona o novo label\n",
    "        self.labels[vertice.label] = vertice\n",
    "        # Caso a matriz esteja vazia\n",
    "        if len(self.matriz) == 0:\n",
    "            vertice.indice = 0\n",
    "            # Adicionamos à linha o valor referente ao número de laços presentes neste vértice \n",
    "            self.matriz.append(list([vertice.vizinhos[vertice]]))\n",
    "            self.indices[0] = vertice\n",
    "            return\n",
    "\n",
    "        # Linha que será adcioanada à matriz\n",
    "        nova_linha = []\n",
    "        # Adiciona o índice do novo vértice à hash table\n",
    "        self.indices[len(self.matriz)] = vertice # O(1)\n",
    "        vertice.indice = len(self.matriz) # O(1)\n",
    "        # Itera por cada linha da matriz adicionando uma nova coluna com valor igual ao número de arestas entre\n",
    "        # o novo vértice e o da linha atual\n",
    "        for indice, linha in enumerate(self.matriz): # O(n)\n",
    "            vertice_atual = self.indices[indice] # O(1)\n",
    "            quantidade = vertice.vizinhos.get(vertice_atual, 0) # O(1)\n",
    "            linha.append(quantidade) # O(1)\n",
    "            nova_linha.append(quantidade) #O(1)\n",
    "\n",
    "        # Atualiza a nova linha para o caso do vértice adicionado apresentar laços\n",
    "        quantidade_arestas_proprias = vertice.vizinhos.get(vertice, 0) # O(1)\n",
    "        nova_linha.append(quantidade_arestas_proprias) # O(1)\n",
    "        self.matriz.append(nova_linha) #O(1)\n",
    "\n",
    "    def get_vertices(self):\n",
    "        return self.indices.values()\n",
    "\n",
    "    def get_adjacentes(self, label_vertice):\n",
    "        vertice = self.labels[label_vertice]\n",
    "        indice_na_matriz = vertice.indice\n",
    "        linha = self.matriz[indice_na_matriz]\n",
    "        # É feita a filtragem dos elementos \n",
    "        vizinhos_map = map(lambda i : self.indices[i], filter(lambda indice : linha[indice] > 0, range(0, len(linha))))\n",
    "        return set(vizinhos_map)\n",
    "\n",
    "    def get_vertice(self, label_vertice):\n",
    "        return self.labels[label_vertice]\n",
    "\n",
    "    def remover_vertice(self, label_vertice): # O(n + n*n) = O(n^2)\n",
    "        if label_vertice not in self.labels:\n",
    "            raise ValueError(\"Vértice não faz parte do grafo\") # O(1)\n",
    "\n",
    "        vertice = self.labels[label_vertice]\n",
    "        indice_a_remover = vertice.indice\n",
    "        print(self.indices.keys())\n",
    "        for i, linha in enumerate(self.matriz): # O(n)\n",
    "            if i == indice_a_remover:\n",
    "                continue\n",
    "            if linha[indice_a_remover] != 0:    # O(1)\n",
    "                # Remove o vertice removido da lista de vizinhos dos outros vertices\n",
    "                self.indices[i].vizinhos.pop(vertice) # O(1)\n",
    "            # Atualiza os valores dos indices associados aos vertices para refletir as novas posicoes\n",
    "            if i > indice_a_remover: \n",
    "                self.indices[i - 1] = self.indices[i]\n",
    "                self.indices[i - 1].indice = i - 1\n",
    "                self.indices.pop(i)\n",
    "            linha.pop(indice_a_remover) # O(n)\n",
    "\n",
    "        # Remove da matriz a linha referente ao vértice removido\n",
    "        self.matriz.pop(indice_a_remover)\n",
    "\n",
    "    def __str__(self):\n",
    "        return str(self.matriz)"
   ]
  },
  {
   "cell_type": "code",
   "execution_count": 17,
   "id": "a847da69",
   "metadata": {},
   "outputs": [
    {
     "name": "stdout",
     "output_type": "stream",
     "text": [
      "[[0, 1, 0, 0, 0, 0, 0, 0], [1, 0, 1, 1, 1, 1, 0, 0], [0, 1, 0, 1, 1, 0, 1, 0], [0, 1, 1, 0, 0, 0, 0, 1], [0, 1, 1, 0, 0, 0, 0, 0], [0, 1, 0, 0, 0, 0, 0, 0], [0, 0, 1, 0, 0, 0, 0, 0], [0, 0, 0, 1, 0, 0, 0, 0]]\n"
     ]
    }
   ],
   "source": [
    "grafo = MatrizAdjacencia(\"Grafo - 1\", \"./data/GRAFO_1.txt\")\n",
    "print(grafo)"
   ]
  },
  {
   "cell_type": "markdown",
   "id": "e5eca189",
   "metadata": {},
   "source": [
    "## Item **4** : Conversão de matriz de adjacência para lista de Adjacências e vice-versa.\n",
    "A implementação é bastante simples: obtemos os vértices do grafo inicial a partir do método *get_vertices* e \n",
    "fazemos a inserção destes no novo grafo vazio - que utiliza a estrutura de dados procurada."
   ]
  },
  {
   "cell_type": "code",
   "execution_count": 29,
   "id": "9295c675",
   "metadata": {},
   "outputs": [
    {
     "name": "stdout",
     "output_type": "stream",
     "text": [
      "a -> ['b']\n",
      "b -> ['e', 'c', 'd', 'f', 'a']\n",
      "c -> ['b', 'i', 'd', 'e']\n",
      "d -> ['b', 'c', 'h']\n",
      "e -> ['b', 'c']\n",
      "f -> ['b']\n",
      "i -> ['c']\n",
      "h -> ['d']\n"
     ]
    }
   ],
   "source": [
    "# TODO : Se generalizarmos o grafo com uma classe abstrata, podemos manter apenas uma funcao \n",
    "def converter_lista_pra_matriz(grafo_inicial : ListaAdjacencia) -> MatrizAdjacencia:\n",
    "    novo_grafo = MatrizAdjacencia(nome=grafo_inicial.nome)\n",
    "    for vertice in grafo.get_vertices():\n",
    "        novo_grafo.adicionar_vertice(vertice)\n",
    "    return novo_grafo\n",
    "        \n",
    "def converter_matriz_pra_lista(grafo_inicial : MatrizAdjacencia) -> ListaAdjacencia:\n",
    "    novo_grafo = ListaAdjacencia(grafo_inicial.nome)\n",
    "    for vertice in grafo.get_vertices():\n",
    "        novo_grafo.adicionar_vertice(vertice)\n",
    "    return novo_grafo\n",
    "\n",
    "matriz = MatrizAdjacencia(nome=\"Grafo que sera convertido\", caminho_arquivo=\"./data/GRAFO_1.txt\")\n",
    "print(converter_matriz_pra_lista(matriz))"
   ]
  },
  {
   "cell_type": "markdown",
   "id": "318307a6",
   "metadata": {},
   "source": [
    "## Item **5** : Função que calcula o grau de cada vértice."
   ]
  },
  {
   "cell_type": "code",
   "execution_count": null,
   "id": "a3fde269",
   "metadata": {},
   "outputs": [
    {
     "name": "stdout",
     "output_type": "stream",
     "text": [
      "5\n",
      "4\n"
     ]
    }
   ],
   "source": [
    "from functools import reduce\n",
    "def calcular_grau_vertice_matriz(grafo, label_vertice) -> int:\n",
    "    # Obtem o objeto do vertice de entrada, para que possamos extrair seu indice na matriz\n",
    "    vertice = grafo.get_vertice(label_vertice)\n",
    "    # Faz uma operacao reducao somando todos os valores da linha correspondente ao vertice de entrada\n",
    "    # Isso nos fornece o numero de arestas no qual este vertice eh terminal (seu grau)\n",
    "    return reduce(lambda a,b : a+b, grafo.matriz[vertice.indice])\n",
    "grafo = MatrizAdjacencia(\"Grafo\", \"./data/GRAFO_1.txt\")\n",
    "print(calcular_grau_vertice_matriz(grafo, \"b\"))\n"
   ]
  },
  {
   "cell_type": "markdown",
   "id": "13c6916d",
   "metadata": {},
   "source": [
    "## Item **14** - Busca em Profundidade, com determinação de arestas de retorno, a partir de um vértice em específico"
   ]
  },
  {
   "cell_type": "code",
   "execution_count": 18,
   "id": "ec65d9c1",
   "metadata": {},
   "outputs": [],
   "source": [
    "# TODO : Retornar árvore de profundidade e checar se precisa fazer o percurso na ordem\n",
    "def depth_first_search(grafo, label_vertice_inicial, ordenado : bool = None):\n",
    "    pilha = list()\n",
    "    vertice_inicial = grafo.get_vertice(label_vertice_inicial)\n",
    "    # AS aresta serao representadas por 2-uplas\n",
    "    arestas_visitadas = set()\n",
    "    arestas_de_retorno = set()\n",
    "    # Set para monitorar quais vertices ainda nao foram visitados\n",
    "    vertices_nao_visitados = set(grafo.get_vertices())\n",
    "    # Set para monitorar quais vertices ainda nao foram explorados\n",
    "    vertices_nao_explorados = set(grafo.get_vertices()) \n",
    "    eh_conexo = True\n",
    "    print(f\"## Percurso em profundidade em '{grafo.nome}'\") \n",
    "    print(f\"Vertice visitado: {vertice_inicial.label}, predecessor: X\", )\n",
    "    pilha.append(vertice_inicial)\n",
    "    vertices_nao_visitados.remove(vertice_inicial)\n",
    "    vizinhos_vertices = dict()\n",
    "    while vertices_nao_explorados:\n",
    "        if len(pilha) == 0:\n",
    "            menor_label = min([i.label for i in vertices_nao_visitados])\n",
    "            nova_raiz = grafo.get_vertice(min([i.label for i in vertices_nao_visitados]))\n",
    "            pilha.append(nova_raiz)\n",
    "            print(f\"Vertice visitado: {nova_raiz.label}, predecessor: X\", )\n",
    "            eh_conexo = False\n",
    "            vertices_nao_visitados.remove(nova_raiz)\n",
    "        u = pilha[-1]\n",
    "        if u not in vizinhos_vertices:\n",
    "            if ordenado:\n",
    "                # TODO : Refatorar\n",
    "                labels_ordenadas = sorted([i.label for i in grafo.get_adjacentes(u.label)], reverse=True)\n",
    "                vizinhos_vertices[u] = [grafo.get_vertice(v) for v in labels_ordenadas]\n",
    "            else:\n",
    "                vizinhos_vertices[u] = grafo.get_adjacentes(u.label)\n",
    "        \n",
    "        v = vizinhos_vertices[u].pop() if len(vizinhos_vertices[u]) > 0 else None\n",
    "        if not v:\n",
    "            pilha.pop()\n",
    "            vertices_nao_explorados.remove(u) # O vertice eh marcado como explorado\n",
    "        elif v in vertices_nao_visitados:\n",
    "            vertices_nao_visitados.remove(v)\n",
    "            print(f\"Vertice visitado: {v.label}, predecessor : {u.label}\", )\n",
    "            pilha.append(v)\n",
    "            arestas_visitadas.add((u,v))\n",
    "        else:\n",
    "            if v in vertices_nao_explorados and pilha[-2] != v: # Checa se é adjaccente na pilha\n",
    "                if (v,u) not in arestas_visitadas:\n",
    "                    arestas_visitadas.add((u,v))\n",
    "                    arestas_de_retorno.add((u,v))\n",
    "                    # print(\"Nova aresta de retorno: \", (u.label,v.label))\n",
    "\n",
    "    # Printa arestas de retorno\n",
    "    arestas_de_retorno = map(lambda aresta : (aresta[0].label, aresta[1].label), arestas_de_retorno)\n",
    "    print(f\"Arestas de retorno: {list(arestas_de_retorno)}\")\n",
    "    return eh_conexo"
   ]
  },
  {
   "cell_type": "code",
   "execution_count": 19,
   "id": "c61132bc",
   "metadata": {},
   "outputs": [
    {
     "name": "stdout",
     "output_type": "stream",
     "text": [
      "## Percurso em profundidade em 'Grafo Matriz'\n",
      "Vertice visitado: a, predecessor: X\n",
      "Vertice visitado: b, predecessor : a\n",
      "Vertice visitado: c, predecessor : b\n",
      "Vertice visitado: d, predecessor : c\n",
      "Vertice visitado: h, predecessor : d\n",
      "Vertice visitado: e, predecessor : c\n",
      "Vertice visitado: i, predecessor : c\n",
      "Vertice visitado: f, predecessor : b\n",
      "Arestas de retorno: [('e', 'b'), ('d', 'b')]\n",
      "## Percurso em profundidade em 'Grafo Lista'\n",
      "Vertice visitado: a, predecessor: X\n",
      "Vertice visitado: b, predecessor : a\n",
      "Vertice visitado: c, predecessor : b\n",
      "Vertice visitado: d, predecessor : c\n",
      "Vertice visitado: h, predecessor : d\n",
      "Vertice visitado: e, predecessor : c\n",
      "Vertice visitado: i, predecessor : c\n",
      "Vertice visitado: f, predecessor : b\n",
      "Arestas de retorno: [('e', 'b'), ('d', 'b')]\n"
     ]
    },
    {
     "data": {
      "text/plain": [
       "True"
      ]
     },
     "execution_count": 19,
     "metadata": {},
     "output_type": "execute_result"
    }
   ],
   "source": [
    "from IPython.display import display_markdown\n",
    "display_markdown(\"**Busca em profundidade em grafo conexo**\")\n",
    "grafo1 = MatrizAdjacencia(\"Grafo Matriz\", \"./data/GRAFO_1.txt\")\n",
    "depth_first_search(grafo=grafo1, label_vertice_inicial=\"a\", ordenado=True)\n",
    "\n",
    "grafo1 = ListaAdjacencia(\"Grafo Lista\", \"./data/GRAFO_1.txt\")\n",
    "depth_first_search(grafo=grafo1, label_vertice_inicial=\"a\", ordenado=True)\n",
    "\n"
   ]
  },
  {
   "cell_type": "code",
   "execution_count": 20,
   "id": "b33a87cf",
   "metadata": {},
   "outputs": [
    {
     "name": "stdout",
     "output_type": "stream",
     "text": [
      "## Percurso em profundidade em 'Grafo 2 - Lista de Adjacencia'\n",
      "Vertice visitado: 1, predecessor: X\n",
      "Vertice visitado: 2, predecessor : 1\n",
      "Vertice visitado: 3, predecessor : 2\n",
      "Vertice visitado: 4, predecessor : 3\n",
      "Vertice visitado: 5, predecessor : 4\n",
      "Vertice visitado: 6, predecessor : 2\n",
      "Vertice visitado: 7, predecessor : 6\n",
      "Vertice visitado: 10, predecessor: X\n",
      "Vertice visitado: 8, predecessor : 10\n",
      "Vertice visitado: 11, predecessor : 8\n",
      "Vertice visitado: 9, predecessor : 8\n",
      "Arestas de retorno: [('5', '2'), ('9', '10'), ('3', '1'), ('6', '1')]\n",
      "## Percurso em profundidade em 'Grafo 2 - Matriz de Adjacencia'\n",
      "Vertice visitado: 1, predecessor: X\n",
      "Vertice visitado: 2, predecessor : 1\n",
      "Vertice visitado: 3, predecessor : 2\n",
      "Vertice visitado: 4, predecessor : 3\n",
      "Vertice visitado: 5, predecessor : 4\n",
      "Vertice visitado: 6, predecessor : 2\n",
      "Vertice visitado: 7, predecessor : 6\n",
      "Vertice visitado: 10, predecessor: X\n",
      "Vertice visitado: 8, predecessor : 10\n",
      "Vertice visitado: 11, predecessor : 8\n",
      "Vertice visitado: 9, predecessor : 8\n",
      "Arestas de retorno: [('6', '1'), ('9', '10'), ('3', '1'), ('5', '2')]\n"
     ]
    },
    {
     "data": {
      "text/plain": [
       "False"
      ]
     },
     "execution_count": 20,
     "metadata": {},
     "output_type": "execute_result"
    }
   ],
   "source": [
    "\n",
    "display_markdown(\"**Busca em profundidade em grafo nao conexo**\")\n",
    "grafo1 = ListaAdjacencia(\"Grafo 2 - Lista de Adjacencia\", \"./data/GRAFO_2.txt\")\n",
    "depth_first_search(grafo=grafo1, label_vertice_inicial=\"1\", ordenado=True)\n",
    "\n",
    "grafo1 = MatrizAdjacencia(\"Grafo 2 - Matriz de Adjacencia\", \"./data/GRAFO_2.txt\")\n",
    "depth_first_search(grafo=grafo1, label_vertice_inicial=\"1\", ordenado=True)"
   ]
  },
  {
   "cell_type": "markdown",
   "id": "9d6410bc",
   "metadata": {},
   "source": [
    "## Item **13** - Busca em Largura, a partir de um vértice específico."
   ]
  },
  {
   "cell_type": "code",
   "execution_count": 21,
   "id": "2bd302e6",
   "metadata": {},
   "outputs": [],
   "source": [
    "from collections import deque\n",
    "def width_first_search(grafo, label_vertice_inicial, ordenado : bool = None):\n",
    "    fila = deque()\n",
    "    vertices_nao_visitados = set(grafo.get_vertices()) # Pra o caso do grafo nao ser conexo\n",
    "    arestas_visitadas = set()\n",
    "    vertice_inicial = grafo.get_vertice(label_vertice_inicial)\n",
    "    vertices_nao_visitados.remove(vertice_inicial)\n",
    "    print(\"## Percurso em Largura\")\n",
    "    print(\"Vertice inicial: \", vertice_inicial.label)\n",
    "    fila.append(vertice_inicial)\n",
    "    vizinhos_vertices = dict()\n",
    "    eh_conexo = False\n",
    "    while len(vertices_nao_visitados) > 0:\n",
    "        if len(fila) == 0:\n",
    "            nova_raiz =vertices_nao_visitados.pop()\n",
    "            print(f\"Vertice visitado: {nova_raiz.label}; Predecessor : X\",)\n",
    "            fila.append(nova_raiz)\n",
    "            eh_conexo = True\n",
    "        u = fila.popleft()\n",
    "        # Se os vertices adjacentes de u nao estiverem em nosso dict que os armazena, os insere\n",
    "        if ordenado:\n",
    "            labels_ordenadas = sorted([i.label for i in grafo.get_adjacentes(u.label)], reverse=True)\n",
    "            vizinhos_vertices[u] = [grafo.get_vertice(v) for v in labels_ordenadas]\n",
    "        else:\n",
    "            vizinhos_vertices[u] = grafo.get_adjacentes(u.label)\n",
    "        v = vizinhos_vertices[u].pop() if len(vizinhos_vertices[u]) > 0 else None\n",
    "        while v: # O(n) -> n : numero de vizinhos do vertice u\n",
    "            if v in vertices_nao_visitados:\n",
    "                vertices_nao_visitados.remove(v)\n",
    "                fila.append(v)\n",
    "                print(f\"Vertice visitado: {v.label}; Predecessor : {u.label}\",)\n",
    "            v = vizinhos_vertices[u].pop() if len(vizinhos_vertices[u]) > 0 else None"
   ]
  },
  {
   "cell_type": "code",
   "execution_count": 22,
   "id": "722d8c3f",
   "metadata": {},
   "outputs": [
    {
     "name": "stdout",
     "output_type": "stream",
     "text": [
      "1 -> ['2', '6', '3']\n",
      "2 -> ['6', '3', '5']\n",
      "3 -> ['1', '4', '2']\n",
      "6 -> ['1', '2', '7']\n",
      "5 -> ['4', '2']\n",
      "4 -> ['3', '5']\n",
      "7 -> ['6']\n",
      "8 -> ['10', '11', '9']\n",
      "9 -> ['10']\n",
      "10 -> ['8', '9']\n",
      "11 -> ['8']\n",
      "## Percurso em Largura\n",
      "Vertice inicial:  1\n",
      "Vertice visitado: 2; Predecessor : 1\n",
      "Vertice visitado: 6; Predecessor : 1\n",
      "Vertice visitado: 3; Predecessor : 1\n",
      "Vertice visitado: 5; Predecessor : 2\n",
      "Vertice visitado: 7; Predecessor : 6\n",
      "Vertice visitado: 4; Predecessor : 3\n",
      "Vertice visitado: 8; Predecessor : X\n",
      "Vertice visitado: 10; Predecessor : 8\n",
      "Vertice visitado: 11; Predecessor : 8\n",
      "Vertice visitado: 9; Predecessor : 8\n"
     ]
    }
   ],
   "source": [
    "grafo_matriz = ListaAdjacencia(\"Grafo Matriz\", \"./data/GRAFO_2.txt\")\n",
    "print(grafo_matriz)\n",
    "width_first_search(grafo_matriz, \"1\")"
   ]
  },
  {
   "cell_type": "code",
   "execution_count": 23,
   "id": "fb5b22b2",
   "metadata": {},
   "outputs": [],
   "source": [
    "# Funcao para calcular o grau de cada vertice"
   ]
  }
 ],
 "metadata": {
  "kernelspec": {
   "display_name": "Python 3",
   "language": "python",
   "name": "python3"
  },
  "language_info": {
   "codemirror_mode": {
    "name": "ipython",
    "version": 3
   },
   "file_extension": ".py",
   "mimetype": "text/x-python",
   "name": "python",
   "nbconvert_exporter": "python",
   "pygments_lexer": "ipython3",
   "version": "3.12.3"
  }
 },
 "nbformat": 4,
 "nbformat_minor": 5
}
